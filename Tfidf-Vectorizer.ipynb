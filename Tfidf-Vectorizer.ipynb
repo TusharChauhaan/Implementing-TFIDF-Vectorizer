{
  "nbformat": 4,
  "nbformat_minor": 0,
  "metadata": {
    "colab": {
      "name": "Assignment_3.ipynb",
      "provenance": [],
      "collapsed_sections": []
    },
    "kernelspec": {
      "display_name": "Python 3",
      "language": "python",
      "name": "python3"
    },
    "language_info": {
      "codemirror_mode": {
        "name": "ipython",
        "version": 3
      },
      "file_extension": ".py",
      "mimetype": "text/x-python",
      "name": "python",
      "nbconvert_exporter": "python",
      "pygments_lexer": "ipython3",
      "version": "3.7.1"
    }
  },
  "cells": [
    {
      "cell_type": "markdown",
      "metadata": {
        "id": "h9464I-uxLiw"
      },
      "source": [
        "# Assignment"
      ]
    },
    {
      "cell_type": "markdown",
      "metadata": {
        "id": "IvLvmewlxLix"
      },
      "source": [
        "<font face='georgia'>\n",
        "    \n",
        "   <h4><strong>What does tf-idf mean?</strong></h4>\n",
        "\n",
        "   <p>    \n",
        "Tf-idf stands for <em>term frequency-inverse document frequency</em>, and the tf-idf weight is a weight often used in information retrieval and text mining. This weight is a statistical measure used to evaluate how important a word is to a document in a collection or corpus. The importance increases proportionally to the number of times a word appears in the document but is offset by the frequency of the word in the corpus. Variations of the tf-idf weighting scheme are often used by search engines as a central tool in scoring and ranking a document's relevance given a user query.\n",
        "</p>\n",
        "    \n",
        "   <p>\n",
        "One of the simplest ranking functions is computed by summing the tf-idf for each query term; many more sophisticated ranking functions are variants of this simple model.\n",
        "</p>\n",
        "    \n",
        "   <p>\n",
        "Tf-idf can be successfully used for stop-words filtering in various subject fields including text summarization and classification.\n",
        "</p>\n",
        "    \n",
        "</font>"
      ]
    },
    {
      "cell_type": "markdown",
      "metadata": {
        "id": "4XLaGFUMxLiy"
      },
      "source": [
        "<font face='georgia'>\n",
        "    <h4><strong>How to Compute:</strong></h4>\n",
        "\n",
        "Typically, the tf-idf weight is composed by two terms: the first computes the normalized Term Frequency (TF), aka. the number of times a word appears in a document, divided by the total number of words in that document; the second term is the Inverse Document Frequency (IDF), computed as the logarithm of the number of the documents in the corpus divided by the number of documents where the specific term appears.\n",
        "\n",
        " <ul>\n",
        "    <li>\n",
        "<strong>TF:</strong> Term Frequency, which measures how frequently a term occurs in a document. Since every document is different in length, it is possible that a term would appear much more times in long documents than shorter ones. Thus, the term frequency is often divided by the document length (aka. the total number of terms in the document) as a way of normalization: <br>\n",
        "\n",
        "$TF(t) = \\frac{\\text{Number of times term t appears in a document}}{\\text{Total number of terms in the document}}.$\n",
        "</li>\n",
        "<li>\n",
        "<strong>IDF:</strong> Inverse Document Frequency, which measures how important a term is. While computing TF, all terms are considered equally important. However it is known that certain terms, such as \"is\", \"of\", and \"that\", may appear a lot of times but have little importance. Thus we need to weigh down the frequent terms while scale up the rare ones, by computing the following: <br>\n",
        "\n",
        "$IDF(t) = \\log_{e}\\frac{\\text{Total  number of documents}} {\\text{Number of documents with term t in it}}.$\n",
        "for numerical stabiltiy we will be changing this formula little bit\n",
        "$IDF(t) = \\log_{e}\\frac{\\text{Total  number of documents}} {\\text{Number of documents with term t in it}+1}.$\n",
        "</li>\n",
        "</ul>\n",
        "\n",
        "<br>\n",
        "<h4><strong>Example</strong></h4>\n",
        "<p>\n",
        "\n",
        "Consider a document containing 100 words wherein the word cat appears 3 times. The term frequency (i.e., tf) for cat is then (3 / 100) = 0.03. Now, assume we have 10 million documents and the word cat appears in one thousand of these. Then, the inverse document frequency (i.e., idf) is calculated as log(10,000,000 / 1,000) = 4. Thus, the Tf-idf weight is the product of these quantities: 0.03 * 4 = 0.12.\n",
        "</p>\n",
        "</font>"
      ]
    },
    {
      "cell_type": "markdown",
      "metadata": {
        "id": "dg2ooa4DxLiz"
      },
      "source": [
        "## Task-1"
      ]
    },
    {
      "cell_type": "markdown",
      "metadata": {
        "id": "TAcTjhO8xLiz"
      },
      "source": [
        "<font face='georgia'>\n",
        "    <h4><strong>1. Build a TFIDF Vectorizer & compare its results with Sklearn:</strong></h4>\n",
        "\n",
        "<ul>\n",
        "    <li> As a part of this task you will be implementing TFIDF vectorizer on a collection of text documents.</li>\n",
        "    <br>\n",
        "    <li> You should compare the results of your own implementation of TFIDF vectorizer with that of sklearns implemenation TFIDF vectorizer.</li>\n",
        "    <br>\n",
        "    <li> Sklearn does few more tweaks in the implementation of its version of TFIDF vectorizer, so to replicate the exact results you would need to add following things to your custom implementation of tfidf vectorizer:\n",
        "       <ol>\n",
        "        <li> Sklearn has its vocabulary generated from idf sroted in alphabetical order</li>\n",
        "        <li> Sklearn formula of idf is different from the standard textbook formula. Here the constant <strong>\"1\"</strong> is added to the numerator and denominator of the idf as if an extra document was seen containing every term in the collection exactly once, which prevents zero divisions.\n",
        "            \n",
        " $IDF(t) = 1+\\log_{e}\\frac{1\\text{ }+\\text{ Total  number of documents in collection}} {1+\\text{Number of documents with term t in it}}.$\n",
        "        </li>\n",
        "        <li> Sklearn applies L2-normalization on its output matrix.</li>\n",
        "        <li> The final output of sklearn tfidf vectorizer is a sparse matrix.</li>\n",
        "    </ol>\n",
        "    <br>\n",
        "    <li>Steps to approach this task:\n",
        "    <ol>\n",
        "        <li> You would have to write both fit and transform methods for your custom implementation of tfidf vectorizer.</li>\n",
        "        <li> Print out the alphabetically sorted voacb after you fit your data and check if its the same as that of the feature names from sklearn tfidf vectorizer. </li>\n",
        "        <li> Print out the idf values from your implementation and check if its the same as that of sklearns tfidf vectorizer idf values. </li>\n",
        "        <li> Once you get your voacb and idf values to be same as that of sklearns implementation of tfidf vectorizer, proceed to the below steps. </li>\n",
        "        <li> Make sure the output of your implementation is a sparse matrix. Before generating the final output, you need to normalize your sparse matrix using L2 normalization. You can refer to this link https://scikit-learn.org/stable/modules/generated/sklearn.preprocessing.normalize.html </li>\n",
        "        <li> After completing the above steps, print the output of your custom implementation and compare it with sklearns implementation of tfidf vectorizer.</li>\n",
        "        <li> To check the output of a single document in your collection of documents,  you can convert the sparse matrix related only to that document into dense matrix and print it.</li>\n",
        "        </ol>\n",
        "    </li>\n",
        "    <br>\n",
        "   </ul>\n",
        "\n",
        "  <p> <font color=\"#e60000\"><strong>Note-1: </strong></font> All the necessary outputs of sklearns tfidf vectorizer have been provided as reference in this notebook, you can compare your outputs as mentioned in the above steps, with these outputs.<br>\n",
        "   <font color=\"#e60000\"><strong>Note-2: </strong></font> The output of your custom implementation and that of sklearns implementation would match only with the collection of document strings provided to you as reference in this notebook. It would not match for strings that contain capital letters or punctuations, etc, because sklearn version of tfidf vectorizer deals with such strings in a different way. To know further details about how sklearn tfidf vectorizer works with such string, you can always refer to its official documentation.<br>\n",
        "   <font color=\"#e60000\"><strong>Note-3: </strong></font> During this task, it would be helpful for you to debug the code you write with print statements wherever necessary. But when you are finally submitting the assignment, make sure your code is readable and try not to print things which are not part of this task.\n",
        "    </p>"
      ]
    },
    {
      "cell_type": "markdown",
      "metadata": {
        "id": "OnV82tg1xLi0"
      },
      "source": [
        "### Corpus"
      ]
    },
    {
      "cell_type": "code",
      "metadata": {
        "id": "bUsYm9wjxLi1"
      },
      "source": [
        "## SkLearn# Collection of string documents\n",
        "\n",
        "corpus = [\n",
        "     'this is the first document',\n",
        "     'this document is the second document',\n",
        "     'and this is the third one',\n",
        "     'is this the first document',\n",
        "]"
      ],
      "execution_count": 1,
      "outputs": []
    },
    {
      "cell_type": "markdown",
      "metadata": {
        "id": "eLwmFZfKxLi4"
      },
      "source": [
        "### SkLearn Implementation"
      ]
    },
    {
      "cell_type": "code",
      "metadata": {
        "id": "Np4dfQOkxLi4"
      },
      "source": [
        "from sklearn.feature_extraction.text import TfidfVectorizer\n",
        "vectorizer = TfidfVectorizer()\n",
        "vectorizer.fit(corpus)\n",
        "skl_output = vectorizer.transform(corpus)"
      ],
      "execution_count": 2,
      "outputs": []
    },
    {
      "cell_type": "code",
      "metadata": {
        "id": "-7Om8YpYxLi6",
        "colab": {
          "base_uri": "https://localhost:8080/",
          "height": 0
        },
        "outputId": "54077efe-610f-4e15-bb98-0f383ac8771e"
      },
      "source": [
        "# sklearn feature names, they are sorted in alphabetic order by default.\n",
        "print(vectorizer.get_feature_names())"
      ],
      "execution_count": 3,
      "outputs": [
        {
          "output_type": "stream",
          "name": "stdout",
          "text": [
            "['and', 'document', 'first', 'is', 'one', 'second', 'the', 'third', 'this']\n"
          ]
        },
        {
          "output_type": "stream",
          "name": "stderr",
          "text": [
            "/usr/local/lib/python3.7/dist-packages/sklearn/utils/deprecation.py:87: FutureWarning: Function get_feature_names is deprecated; get_feature_names is deprecated in 1.0 and will be removed in 1.2. Please use get_feature_names_out instead.\n",
            "  warnings.warn(msg, category=FutureWarning)\n"
          ]
        }
      ]
    },
    {
      "cell_type": "code",
      "metadata": {
        "id": "dTKplK96xLi-",
        "colab": {
          "base_uri": "https://localhost:8080/",
          "height": 0
        },
        "outputId": "9c0f273b-5cc6-4550-cec3-9b7358f05254"
      },
      "source": [
        "# Here we will print the sklearn tfidf vectorizer idf values after applying the fit method\n",
        "# After using the fit function on the corpus the vocab has 9 words in it, and each has its idf value.\n",
        "\n",
        "print(vectorizer.idf_)"
      ],
      "execution_count": 4,
      "outputs": [
        {
          "output_type": "stream",
          "name": "stdout",
          "text": [
            "[1.91629073 1.22314355 1.51082562 1.         1.91629073 1.91629073\n",
            " 1.         1.91629073 1.        ]\n"
          ]
        }
      ]
    },
    {
      "cell_type": "code",
      "metadata": {
        "id": "-CTiWHygxLjA",
        "colab": {
          "base_uri": "https://localhost:8080/",
          "height": 0
        },
        "outputId": "69250ddd-e08f-497b-af0a-95c70834e132"
      },
      "source": [
        "# shape of sklearn tfidf vectorizer output after applying transform method.\n",
        "\n",
        "skl_output.shape"
      ],
      "execution_count": 5,
      "outputs": [
        {
          "output_type": "execute_result",
          "data": {
            "text/plain": [
              "(4, 9)"
            ]
          },
          "metadata": {},
          "execution_count": 5
        }
      ]
    },
    {
      "cell_type": "code",
      "metadata": {
        "id": "bDKEpbA-xLjD",
        "colab": {
          "base_uri": "https://localhost:8080/",
          "height": 0
        },
        "outputId": "c1633f05-96c3-4700-f580-8b3c7b4093e3"
      },
      "source": [
        "# sklearn tfidf values for first line of the above corpus.\n",
        "# Here the output is a sparse matrix\n",
        "\n",
        "print(skl_output)"
      ],
      "execution_count": 6,
      "outputs": [
        {
          "output_type": "stream",
          "name": "stdout",
          "text": [
            "  (0, 8)\t0.38408524091481483\n",
            "  (0, 6)\t0.38408524091481483\n",
            "  (0, 3)\t0.38408524091481483\n",
            "  (0, 2)\t0.5802858236844359\n",
            "  (0, 1)\t0.46979138557992045\n",
            "  (1, 8)\t0.281088674033753\n",
            "  (1, 6)\t0.281088674033753\n",
            "  (1, 5)\t0.5386476208856763\n",
            "  (1, 3)\t0.281088674033753\n",
            "  (1, 1)\t0.6876235979836938\n",
            "  (2, 8)\t0.267103787642168\n",
            "  (2, 7)\t0.511848512707169\n",
            "  (2, 6)\t0.267103787642168\n",
            "  (2, 4)\t0.511848512707169\n",
            "  (2, 3)\t0.267103787642168\n",
            "  (2, 0)\t0.511848512707169\n",
            "  (3, 8)\t0.38408524091481483\n",
            "  (3, 6)\t0.38408524091481483\n",
            "  (3, 3)\t0.38408524091481483\n",
            "  (3, 2)\t0.5802858236844359\n",
            "  (3, 1)\t0.46979138557992045\n"
          ]
        }
      ]
    },
    {
      "cell_type": "code",
      "metadata": {
        "id": "3QWo34hexLjF",
        "colab": {
          "base_uri": "https://localhost:8080/",
          "height": 0
        },
        "outputId": "111c3734-491e-470f-a008-923e68725969"
      },
      "source": [
        "# sklearn tfidf values for first line of the above corpus.\n",
        "# To understand the output better, here we are converting the sparse output matrix to dense matrix and printing it.\n",
        "# Notice that this output is normalized using L2 normalization. sklearn does this by default.\n",
        "\n",
        "print(skl_output.toarray())"
      ],
      "execution_count": 7,
      "outputs": [
        {
          "output_type": "stream",
          "name": "stdout",
          "text": [
            "[[0.         0.46979139 0.58028582 0.38408524 0.         0.\n",
            "  0.38408524 0.         0.38408524]\n",
            " [0.         0.6876236  0.         0.28108867 0.         0.53864762\n",
            "  0.28108867 0.         0.28108867]\n",
            " [0.51184851 0.         0.         0.26710379 0.51184851 0.\n",
            "  0.26710379 0.51184851 0.26710379]\n",
            " [0.         0.46979139 0.58028582 0.38408524 0.         0.\n",
            "  0.38408524 0.         0.38408524]]\n"
          ]
        }
      ]
    },
    {
      "cell_type": "markdown",
      "metadata": {
        "id": "qfIwx5LzxLjI"
      },
      "source": [
        "### Your custom implementation"
      ]
    },
    {
      "cell_type": "code",
      "metadata": {
        "id": "HjuCcJwXxLjJ"
      },
      "source": [
        "# Write your code here.\n",
        "# Make sure its well documented and readble with appropriate comments.\n",
        "# Compare your results with the above sklearn tfidf vectorizer\n",
        "# You are not supposed to use any other library apart from the ones given below"
      ],
      "execution_count": 8,
      "outputs": []
    },
    {
      "cell_type": "code",
      "metadata": {
        "id": "h9YtRunxFHk8"
      },
      "source": [
        "from collections import Counter\n",
        "from tqdm import tqdm\n",
        "from scipy.sparse import csr_matrix\n",
        "import math\n",
        "import operator\n",
        "from sklearn.preprocessing import normalize\n",
        "import numpy as np\n",
        "def fit(corpus_n):                                                               \n",
        "  w=[]                                                                          \n",
        "  for i in corpus_n:                                                            \n",
        "    w.append(i.split())                                                         \n",
        "  w1=[]                                                                         \n",
        "  u=[]                                                                            \n",
        "  s= \" \".join(corpus_n)                                                         \n",
        "  w1= s.split()                                                                 \n",
        "  u= np.unique(w1)                                                           \n",
        "  return u,w                                                                    \n",
        "# v-->unique words\n",
        "# w2 --> every sentence in splitted form\n",
        "def transform(unique_word,splitted_word,corpus):                                                   \n",
        "  x=[]                                                                        \n",
        "  for word in unique_word:                                                                \n",
        "    counter=0                                                                   \n",
        "    for f in splitted_word:                                                                \n",
        "      check= False                                                              \n",
        "      for s in f:                                                               \n",
        "        if word== s:                                                            \n",
        "          check= True                                                           \n",
        "      if check== True:                                                          \n",
        "        counter= counter+1                                                      \n",
        "    x.append(1+(math.log((1+len(corpus))/(1+counter))))                     \n",
        "  idf_dict= dict(zip(unique_word,x))                                                    \n",
        "  y=[]                                                                          \n",
        "  for n in splitted_word:                                                                  \n",
        "    val=[]                                                                        \n",
        "    term_dict= {} \n",
        "    term_dict= dict(Counter(n))                                                    \n",
        "    for unique in unique_word:                                                                 \n",
        "      if unique in n:                                                                \n",
        "        term_count= term_dict.get(unique)                                                  \n",
        "      else:                                                                     \n",
        "        term_count=0                                                               \n",
        "      val.append((term_count/len(n))*(idf_dict.get(unique)))                              \n",
        "    y.append(val)                                                                 \n",
        "  r= normalize(csr_matrix(np.array(y)), norm='l2', axis=1)                      \n",
        "  return r, idf_dict                                                            \n",
        "\n",
        "ans1, ans2= fit(corpus)                                                             \n",
        "final_res_r, fin_res_id= transform(ans1,ans2,corpus)                              "
      ],
      "execution_count": 9,
      "outputs": []
    },
    {
      "cell_type": "code",
      "metadata": {
        "colab": {
          "base_uri": "https://localhost:8080/",
          "height": 0
        },
        "id": "YvCjijJ9H83F",
        "outputId": "a4ba9b86-d462-4a45-ac41-f742fee6621d"
      },
      "source": [
        "print(final_res_r.toarray())"
      ],
      "execution_count": 10,
      "outputs": [
        {
          "output_type": "stream",
          "name": "stdout",
          "text": [
            "[[0.         0.46979139 0.58028582 0.38408524 0.         0.\n",
            "  0.38408524 0.         0.38408524]\n",
            " [0.         0.6876236  0.         0.28108867 0.         0.53864762\n",
            "  0.28108867 0.         0.28108867]\n",
            " [0.51184851 0.         0.         0.26710379 0.51184851 0.\n",
            "  0.26710379 0.51184851 0.26710379]\n",
            " [0.         0.46979139 0.58028582 0.38408524 0.         0.\n",
            "  0.38408524 0.         0.38408524]]\n"
          ]
        }
      ]
    },
    {
      "cell_type": "markdown",
      "metadata": {
        "id": "MMxBmVZExLjK"
      },
      "source": [
        "## Task-2"
      ]
    },
    {
      "cell_type": "markdown",
      "metadata": {
        "id": "51j_OtqAxLjL"
      },
      "source": [
        "<font face='georgia'>\n",
        "    <h4><strong>2. Implement max features functionality:</strong></h4>\n",
        "\n",
        "<ul>\n",
        "    <li> As a part of this task you have to modify your fit and transform functions so that your vocab will contain only 50 terms with top idf scores.</li>\n",
        "    <br>\n",
        "    <li>This task is similar to your previous task, just that here your vocabulary is limited to only top 50 features names based on their idf values. Basically your output will have exactly 50 columns and the number of rows will depend on the number of documents you have in your corpus.</li>\n",
        "    <br>\n",
        "    <li>Here you will be give a pickle file, with file name <strong>cleaned_strings</strong>. You would have to load the corpus from this file and use it as input to your tfidf vectorizer.</li>\n",
        "    <br>\n",
        "    <li>Steps to approach this task:\n",
        "    <ol>\n",
        "        <li> You would have to write both fit and transform methods for your custom implementation of tfidf vectorizer, just like in the previous task. Additionally, here you have to limit the number of features generated to 50 as described above.</li>\n",
        "        <li> Now sort your vocab based in descending order of idf values and print out the words in the sorted voacb after you fit your data. Here you should be getting only 50 terms in your vocab. And make sure to print idf values for each term in your vocab. </li>\n",
        "        <li> Make sure the output of your implementation is a sparse matrix. Before generating the final output, you need to normalize your sparse matrix using L2 normalization. You can refer to this link https://scikit-learn.org/stable/modules/generated/sklearn.preprocessing.normalize.html </li>\n",
        "        <li> Now check the output of a single document in your collection of documents,  you can convert the sparse matrix related only to that document into dense matrix and print it. And this dense matrix should contain 1 row and 50 columns. </li>\n",
        "        </ol>\n",
        "    </li>\n",
        "    <br>\n",
        "   </ul>"
      ]
    },
    {
      "cell_type": "code",
      "metadata": {
        "id": "NHxPLlwNxLjL",
        "colab": {
          "base_uri": "https://localhost:8080/",
          "height": 0
        },
        "outputId": "7a4d46c6-5dd4-478b-d916-1cc423f14c41"
      },
      "source": [
        "# Below is the code to load the cleaned_strings pickle file provided\n",
        "# Here corpus is of list type\n",
        "import pickle\n",
        "with open('cleaned_strings', 'rb') as f:\n",
        "    corpus_2 = pickle.load(f)    \n",
        "# printing the length of the corpus loaded\n",
        "print(\"Number of documents in corpus = \",len(corpus_2))"
      ],
      "execution_count": 11,
      "outputs": [
        {
          "output_type": "stream",
          "name": "stdout",
          "text": [
            "Number of documents in corpus =  746\n"
          ]
        }
      ]
    },
    {
      "cell_type": "code",
      "metadata": {
        "id": "ZULfoOIdxLjQ"
      },
      "source": [
        "# Write your code here.\n",
        "# Try not to hardcode any values.\n",
        "# Make sure its well documented and readble with appropriate comments."
      ],
      "execution_count": 12,
      "outputs": []
    },
    {
      "cell_type": "code",
      "metadata": {
        "id": "1_DJnnR3xLjR",
        "colab": {
          "base_uri": "https://localhost:8080/",
          "height": 0
        },
        "outputId": "39a99931-94bb-46d5-aba4-3197fc562a30"
      },
      "source": [
        "print(corpus_2[:10])"
      ],
      "execution_count": 13,
      "outputs": [
        {
          "output_type": "stream",
          "name": "stdout",
          "text": [
            "['slow moving aimless movie distressed drifting young man', 'not sure lost flat characters audience nearly half walked', 'attempting artiness black white clever camera angles movie disappointed became even ridiculous acting poor plot lines almost non existent', 'little music anything speak', 'best scene movie gerardo trying find song keeps running head', 'rest movie lacks art charm meaning emptiness works guess empty', 'wasted two hours', 'saw movie today thought good effort good messages kids', 'bit predictable', 'loved casting jimmy buffet science teacher']\n"
          ]
        }
      ]
    },
    {
      "cell_type": "code",
      "metadata": {
        "colab": {
          "base_uri": "https://localhost:8080/",
          "height": 0
        },
        "id": "r-Pa9e9sqCKT",
        "outputId": "a10bb13c-b878-41e8-9db1-abbb6affac01"
      },
      "source": [
        "t2_r1, t2_r2= fit(corpus_2)                                                     \n",
        "print(t2_r1)                                                                    \n",
        "print(len(t2_r1))         "
      ],
      "execution_count": 14,
      "outputs": [
        {
          "output_type": "stream",
          "name": "stdout",
          "text": [
            "['aailiyah' 'abandoned' 'ability' ... 'zillion' 'zombie' 'zombiez']\n",
            "2897\n"
          ]
        }
      ]
    },
    {
      "cell_type": "code",
      "metadata": {
        "id": "OhaR4zUsqKE_"
      },
      "source": [
        "vals2, idf_val= transform(t2_r1, t2_r2,corpus_2)                         "
      ],
      "execution_count": 22,
      "outputs": []
    },
    {
      "cell_type": "code",
      "metadata": {
        "colab": {
          "base_uri": "https://localhost:8080/",
          "height": 0
        },
        "id": "uhivv7FXqMv5",
        "outputId": "828da56a-d24b-492a-ca46-dda77a415bbc"
      },
      "source": [
        "len(idf_val)"
      ],
      "execution_count": 16,
      "outputs": [
        {
          "output_type": "execute_result",
          "data": {
            "text/plain": [
              "2897"
            ]
          },
          "metadata": {},
          "execution_count": 16
        }
      ]
    },
    {
      "cell_type": "code",
      "metadata": {
        "id": "IVuxftyhqNlw"
      },
      "source": [
        "new= {}                                                                         \n",
        "sor_idf= sorted(idf_val.items(), key=lambda x: x[1], reverse=True)              \n",
        "new= sor_idf[:50]   "
      ],
      "execution_count": 17,
      "outputs": []
    },
    {
      "cell_type": "code",
      "metadata": {
        "colab": {
          "base_uri": "https://localhost:8080/",
          "height": 0
        },
        "id": "Ca6FqKGEqTG7",
        "outputId": "1240f201-ad6d-4ea7-cb44-edea8f8f0226"
      },
      "source": [
        "sor_idf[:50]                                                               \n",
        "word50=[]                                                                          \n",
        "val50=[]                                                                         \n",
        "for h in range(len(new)):                                                       \n",
        "    word50.append(new[h][0])                                                       \n",
        "    val50.append(new[h][1])                                                      \n",
        "print(word50)\n",
        "print(val50) "
      ],
      "execution_count": 18,
      "outputs": [
        {
          "output_type": "stream",
          "name": "stdout",
          "text": [
            "['aailiyah', 'abandoned', 'abroad', 'abstruse', 'academy', 'accents', 'accessible', 'acclaimed', 'accolades', 'accurate', 'accurately', 'achille', 'ackerman', 'actions', 'adams', 'add', 'added', 'admins', 'admiration', 'admitted', 'adrift', 'adventure', 'aesthetically', 'affected', 'affleck', 'afternoon', 'aged', 'ages', 'agree', 'agreed', 'aimless', 'aired', 'akasha', 'akin', 'alert', 'alike', 'allison', 'allow', 'allowing', 'alongside', 'amateurish', 'amaze', 'amazed', 'amazingly', 'amusing', 'amust', 'anatomist', 'angel', 'angela', 'angelina']\n",
            "[6.922918004572872, 6.922918004572872, 6.922918004572872, 6.922918004572872, 6.922918004572872, 6.922918004572872, 6.922918004572872, 6.922918004572872, 6.922918004572872, 6.922918004572872, 6.922918004572872, 6.922918004572872, 6.922918004572872, 6.922918004572872, 6.922918004572872, 6.922918004572872, 6.922918004572872, 6.922918004572872, 6.922918004572872, 6.922918004572872, 6.922918004572872, 6.922918004572872, 6.922918004572872, 6.922918004572872, 6.922918004572872, 6.922918004572872, 6.922918004572872, 6.922918004572872, 6.922918004572872, 6.922918004572872, 6.922918004572872, 6.922918004572872, 6.922918004572872, 6.922918004572872, 6.922918004572872, 6.922918004572872, 6.922918004572872, 6.922918004572872, 6.922918004572872, 6.922918004572872, 6.922918004572872, 6.922918004572872, 6.922918004572872, 6.922918004572872, 6.922918004572872, 6.922918004572872, 6.922918004572872, 6.922918004572872, 6.922918004572872, 6.922918004572872]\n"
          ]
        }
      ]
    },
    {
      "cell_type": "code",
      "metadata": {
        "colab": {
          "base_uri": "https://localhost:8080/",
          "height": 0
        },
        "id": "f-1VhH-lqdZ1",
        "outputId": "aa7ac1b5-476e-4506-d18c-fd6067017ba0"
      },
      "source": [
        "result2, result2_id= transform(word50,t2_r2,corpus_2)                                    \n",
        "print(result2)"
      ],
      "execution_count": 20,
      "outputs": [
        {
          "output_type": "stream",
          "name": "stdout",
          "text": [
            "  (0, 30)\t1.0\n",
            "  (68, 24)\t1.0\n",
            "  (72, 29)\t1.0\n",
            "  (74, 31)\t1.0\n",
            "  (119, 33)\t1.0\n",
            "  (135, 3)\t0.37796447300922725\n",
            "  (135, 10)\t0.37796447300922725\n",
            "  (135, 18)\t0.37796447300922725\n",
            "  (135, 20)\t0.37796447300922725\n",
            "  (135, 36)\t0.37796447300922725\n",
            "  (135, 40)\t0.37796447300922725\n",
            "  (135, 41)\t0.37796447300922725\n",
            "  (176, 49)\t1.0\n",
            "  (181, 13)\t1.0\n",
            "  (192, 21)\t1.0\n",
            "  (193, 23)\t1.0\n",
            "  (216, 2)\t1.0\n",
            "  (222, 47)\t1.0\n",
            "  (225, 19)\t1.0\n",
            "  (227, 17)\t1.0\n",
            "  (241, 44)\t1.0\n",
            "  (270, 1)\t1.0\n",
            "  (290, 25)\t1.0\n",
            "  (333, 26)\t1.0\n",
            "  (334, 15)\t1.0\n",
            "  (341, 43)\t1.0\n",
            "  (344, 42)\t1.0\n",
            "  (348, 8)\t1.0\n",
            "  (377, 37)\t1.0\n",
            "  (409, 5)\t1.0\n",
            "  (430, 39)\t1.0\n",
            "  (457, 45)\t1.0\n",
            "  (461, 4)\t1.0\n",
            "  (465, 38)\t1.0\n",
            "  (475, 35)\t1.0\n",
            "  (493, 6)\t1.0\n",
            "  (500, 48)\t1.0\n",
            "  (548, 0)\t0.7071067811865475\n",
            "  (548, 32)\t0.7071067811865475\n",
            "  (608, 14)\t1.0\n",
            "  (612, 11)\t1.0\n",
            "  (620, 46)\t1.0\n",
            "  (632, 7)\t1.0\n",
            "  (644, 12)\t0.7071067811865475\n",
            "  (644, 27)\t0.7071067811865475\n",
            "  (664, 28)\t1.0\n",
            "  (667, 22)\t1.0\n",
            "  (691, 34)\t1.0\n",
            "  (697, 9)\t1.0\n",
            "  (722, 16)\t1.0\n"
          ]
        }
      ]
    },
    {
      "cell_type": "code",
      "metadata": {
        "colab": {
          "base_uri": "https://localhost:8080/",
          "height": 0
        },
        "id": "V7179dikqiCZ",
        "outputId": "be5f2b3b-d849-42cf-b901-06bf6b34eff0"
      },
      "source": [
        "F=result2.todense()\n",
        "F.shape"
      ],
      "execution_count": 21,
      "outputs": [
        {
          "output_type": "execute_result",
          "data": {
            "text/plain": [
              "(746, 50)"
            ]
          },
          "metadata": {},
          "execution_count": 21
        }
      ]
    }
  ]
}